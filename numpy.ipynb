{
  "nbformat": 4,
  "nbformat_minor": 0,
  "metadata": {
    "colab": {
      "provenance": [],
      "authorship_tag": "ABX9TyPDH+SBTeGUiQ3g3M7tgEDP",
      "include_colab_link": true
    },
    "kernelspec": {
      "name": "python3",
      "display_name": "Python 3"
    },
    "language_info": {
      "name": "python"
    }
  },
  "cells": [
    {
      "cell_type": "markdown",
      "metadata": {
        "id": "view-in-github",
        "colab_type": "text"
      },
      "source": [
        "<a href=\"https://colab.research.google.com/github/programmer-plus-cn/cola-test/blob/main/numpy.ipynb\" target=\"_parent\"><img src=\"https://colab.research.google.com/assets/colab-badge.svg\" alt=\"Open In Colab\"/></a>"
      ]
    },
    {
      "cell_type": "code",
      "execution_count": 1,
      "metadata": {
        "colab": {
          "base_uri": "https://localhost:8080/"
        },
        "id": "mUiaG6gkfosv",
        "outputId": "c966550d-0e4a-4abf-edc2-7fa3fecabcbb"
      },
      "outputs": [
        {
          "output_type": "stream",
          "name": "stdout",
          "text": [
            "python\n"
          ]
        }
      ],
      "source": [
        "print(\"python\")"
      ]
    },
    {
      "cell_type": "code",
      "source": [
        "import numpy as np\n",
        "a = np.array([1,2,3,4])\n",
        "a\n",
        "print(a.shape)"
      ],
      "metadata": {
        "colab": {
          "base_uri": "https://localhost:8080/"
        },
        "id": "zT1B7-_zfx6c",
        "outputId": "7a766621-c976-4921-ed68-daa7eafdb6bf"
      },
      "execution_count": 3,
      "outputs": [
        {
          "output_type": "stream",
          "name": "stdout",
          "text": [
            "(4,)\n"
          ]
        }
      ]
    },
    {
      "cell_type": "code",
      "source": [
        "import numpy as np\n",
        "# a = np.arange(10001)\n",
        "a = np.random.random((2,3))\n",
        "print(a)\n",
        "print(a.sum())\n",
        "print(a.min())\n",
        "print(a.max())"
      ],
      "metadata": {
        "colab": {
          "base_uri": "https://localhost:8080/"
        },
        "id": "q8U60vBTgxSS",
        "outputId": "532256ce-bd7d-4bda-ba44-09d667933ac4"
      },
      "execution_count": 15,
      "outputs": [
        {
          "output_type": "stream",
          "name": "stdout",
          "text": [
            "[[0.96314626 0.00290282 0.29898917]\n",
            " [0.9603305  0.96379412 0.07843899]]\n",
            "3.267601856128538\n",
            "0.0029028239593102967\n",
            "0.9637941170905568\n"
          ]
        }
      ]
    }
  ]
}